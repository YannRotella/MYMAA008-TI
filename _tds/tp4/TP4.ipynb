{
 "cells": [
  {
   "cell_type": "markdown",
   "metadata": {},
   "source": [
    "# TD 6, Codes concaténés\n",
    "*Introduction à la théorie de l’information*\n",
    "\n",
    "\n",
    "<img src=\"index001.png\">\n",
    "\n",
    "\n",
    "## 1  Simuler un schéma de codage\n",
    "\n",
    "Lorsque l’on veut mesurer les performances d’un schéma de codage, il n’est pas nécessaire de coder et de décoder de vraies données. En pratique on supposera que le mot zéro est émis puis pour chaque bloc\n",
    "\n",
    "- on génére un motif d’erreurs aléatoire correspondant au canal de communication\n",
    "- on examine ce motif pour déterminer s’il peut être corrigé. \n",
    "\n",
    "Ce procédé possède de nombreux avantages :\n",
    "\n",
    "- on peut mesurer les performances à grande échelle sans avoir à gérer les entrées/sorties\n",
    "- il est inutile de programmer le codeur,\n",
    "- tester si un motif d’erreurs est corrigible ne nécessite pas la programmation de la totalité du décodeur. \n",
    "\n",
    "## 2  Les codes concaténés\n",
    "\n",
    "Nous allons considérer des codes concaténés en blocs\n",
    "\n",
    "- Code interne B binaire, quelconque.\n",
    "- Code externe de Reed-Solomon, $q$-aire, avec $q=|B|$, de longueur $n<q$, de distance minimale $d<n$ (dimension $k=n−d+1$). \n",
    "\n",
    "Un code de Reed-Solomon peut corriger un motif composé de $t$ erreurs et $s$ effacements si et seulement si $2t+s<d$. Ceci doit suffire pour effectuer la simulation. On ne vous demande pas d'implémenter le code de Reed-Solomon.\n",
    "\n",
    "## 3  Le programme\n",
    "\n",
    "Typiquement on pourra utiliser\n",
    "\n",
    "- code interne : Nordstrom-Robinson (le code de la semaine dernière)\n",
    "- code externe : un Reed-Solomon de longueur $n=256$ et de distance minimale $d=33$ (ce code a une dimension $k=223=n−d+1$) \n",
    "\n",
    "(on pourra faire varier la distance minimale du code externe)\n",
    "\n",
    "Lors du décodage du code interne, le décodeur peut retourner le mot du code à distance la plus proche du mot reçu, soit retourner un effacement si le mot reçu est à une distance trop grande des mots du code. Pour définir \"une distance trop grande\" on choisit un seuil au delà duquel tous les mots reçus avec une distance aux mots du code supérieure au seuil seront \"décodés\" par un effacement.\n",
    "\n",
    "Les simulations pourront essayer de faire varier :\n",
    "\n",
    "- probabilité d’erreur binaire\n",
    "- seuil d’effacement d’un symbole \n",
    "\n",
    "Vous utiliserez et complèterez les cellules suivantes pour répondre aux questions suivantes :\n",
    "\n",
    "- Quel taux d’erreur binaire peut-on corriger ?\n",
    "- Quel est le meilleur seuil d’effacement ? "
   ]
  },
  {
   "cell_type": "code",
   "execution_count": null,
   "metadata": {},
   "outputs": [],
   "source": [
    "codeNR = [\n",
    "     0b0000000000000000, 0b0000000100110111, 0b0000001011100110, 0b0000001101011010,\n",
    "     0b0000010011010011, 0b0000010110101010, 0b0000011000001111, 0b0000011111111101,\n",
    "     0b0000100010101101, 0b0000100111010100, 0b0000101001110001, 0b0000101110000011,\n",
    "     0b0000110001111110, 0b0000110101001001, 0b0000111010011000, 0b0000111100100100,\n",
    "     0b0001000011111000, 0b0001000111001111, 0b0001001010010101, 0b0001001100101001,\n",
    "     0b0001010001100101, 0b0001010100011100, 0b0001011000110010, 0b0001011111000000,\n",
    "     0b0001100000011011, 0b0001100101100010, 0b0001101001001100, 0b0001101110111110,\n",
    "     0b0001110010000110, 0b0001110110110001, 0b0001111011101011, 0b0001111101010111,\n",
    "     0b0010000010011110, 0b0010000101101100, 0b0010001011001001, 0b0010001110110000,\n",
    "     0b0010010000111001, 0b0010010110000101, 0b0010011001010100, 0b0010011101100011,\n",
    "     0b0010100001000111, 0b0010100111111011, 0b0010101000101010, 0b0010101100011101,\n",
    "     0b0010110011100000, 0b0010110100010010, 0b0010111010110111, 0b0010111111001110,\n",
    "     0b0011000010100011, 0b0011000101010001, 0b0011001001111111, 0b0011001100000110,\n",
    "     0b0011010001001010, 0b0011010111110110, 0b0011011010101100, 0b0011011110011011,\n",
    "     0b0011100000110100, 0b0011100110001000, 0b0011101011010010, 0b0011101111100101,\n",
    "     0b0011110011011101, 0b0011110100101111, 0b0011111000000001, 0b0011111101111000,\n",
    "     0b0100000001011101, 0b0100000111100001, 0b0100001010111011, 0b0100001110001100,\n",
    "     0b0100010010110100, 0b0100010101000110, 0b0100011001101000, 0b0100011100010001,\n",
    "     0b0100100011001010, 0b0100100100111000, 0b0100101000010110, 0b0100101101101111,\n",
    "     0b0100110000100011, 0b0100110110011111, 0b0100111011000101, 0b0100111111110010,\n",
    "     0b0101000000101110, 0b0101000110010010, 0b0101001001000011, 0b0101001101110100,\n",
    "     0b0101010010001001, 0b0101010101111011, 0b0101011011011110, 0b0101011110100111,\n",
    "     0b0101100011110111, 0b0101100100000101, 0b0101101010100000, 0b0101101111011001,\n",
    "     0b0101110001010000, 0b0101110111101100, 0b0101111000111101, 0b0101111100001010,\n",
    "     0b0110000001110010, 0b0110000100001011, 0b0110001000100101, 0b0110001111010111,\n",
    "     0b0110010011101111, 0b0110010111011000, 0b0110011010000010, 0b0110011100111110,\n",
    "     0b0110100010010001, 0b0110100110100110, 0b0110101011111100, 0b0110101101000000,\n",
    "     0b0110110000001100, 0b0110110101110101, 0b0110111001011011, 0b0110111110101001,\n",
    "     0b0111000011000100, 0b0111000110111101, 0b0111001000011000, 0b0111001111101010,\n",
    "     0b0111010000010111, 0b0111010100100000, 0b0111011011110001, 0b0111011101001101,\n",
    "     0b0111100001101001, 0b0111100101011110, 0b0111101010001111, 0b0111101100110011,\n",
    "     0b0111110010111010, 0b0111110111000011, 0b0111111001100110, 0b0111111110010100,\n",
    "     0b1000000001101011, 0b1000000110011001, 0b1000001000111100, 0b1000001101000101,\n",
    "     0b1000010011001100, 0b1000010101110000, 0b1000011010100001, 0b1000011110010110,\n",
    "     0b1000100010110010, 0b1000100100001110, 0b1000101011011111, 0b1000101111101000,\n",
    "     0b1000110000010101, 0b1000110111100111, 0b1000111001000010, 0b1000111100111011,\n",
    "     0b1001000001010110, 0b1001000110100100, 0b1001001010001010, 0b1001001111110011,\n",
    "     0b1001010010111111, 0b1001010100000011, 0b1001011001011001, 0b1001011101101110,\n",
    "     0b1001100011000001, 0b1001100101111101, 0b1001101000100111, 0b1001101100010000,\n",
    "     0b1001110000101000, 0b1001110111011010, 0b1001111011110100, 0b1001111110001101,\n",
    "     0b1010000011110101, 0b1010000111000010, 0b1010001000010011, 0b1010001110101111,\n",
    "     0b1010010000100110, 0b1010010101011111, 0b1010011011111010, 0b1010011100001000,\n",
    "     0b1010100001011000, 0b1010100100100001, 0b1010101010000100, 0b1010101101110110,\n",
    "     0b1010110010001011, 0b1010110110111100, 0b1010111001101101, 0b1010111111010001,\n",
    "     0b1011000000001101, 0b1011000100111010, 0b1011001001100000, 0b1011001111011100,\n",
    "     0b1011010010010000, 0b1011010111101001, 0b1011011011000111, 0b1011011100110101,\n",
    "     0b1011100011101110, 0b1011100110010111, 0b1011101010111001, 0b1011101101001011,\n",
    "     0b1011110001110011, 0b1011110101000100, 0b1011111000011110, 0b1011111110100010,\n",
    "     0b1100000010000111, 0b1100000111111110, 0b1100001011010000, 0b1100001100100010,\n",
    "     0b1100010000011010, 0b1100010100101101, 0b1100011001110111, 0b1100011111001011,\n",
    "     0b1100100001100100, 0b1100100101010011, 0b1100101000001001, 0b1100101110110101,\n",
    "     0b1100110011111001, 0b1100110110000000, 0b1100111010101110, 0b1100111101011100,\n",
    "     0b1101000000110001, 0b1101000101001000, 0b1101001011101101, 0b1101001100011111,\n",
    "     0b1101010011100010, 0b1101010111010101, 0b1101011000000100, 0b1101011110111000,\n",
    "     0b1101100010011100, 0b1101100110101011, 0b1101101001111010, 0b1101101111000110,\n",
    "     0b1101110001001111, 0b1101110100110110, 0b1101111010010011, 0b1101111101100001,\n",
    "     0b1110000010101000, 0b1110000100010100, 0b1110001001001110, 0b1110001101111001,\n",
    "     0b1110010001000001, 0b1110010110110011, 0b1110011010011101, 0b1110011111100100,\n",
    "     0b1110100000111111, 0b1110100111001101, 0b1110101011100011, 0b1110101110011010,\n",
    "     0b1110110011010110, 0b1110110101101010, 0b1110111000110000, 0b1110111100000111,\n",
    "     0b1111000011011011, 0b1111000101100111, 0b1111001010110110, 0b1111001110000001,\n",
    "     0b1111010001111100, 0b1111010110001110, 0b1111011000101011, 0b1111011101010010,\n",
    "     0b1111100000000010, 0b1111100111110000, 0b1111101001010101, 0b1111101100101100,\n",
    "     0b1111110010100101, 0b1111110100011001, 0b1111111011001000, 0b1111111111111111\n",
    "     ]"
   ]
  },
  {
   "cell_type": "raw",
   "metadata": {},
   "source": [
    "1. Expliquez pourquoi la fonction suivante calcule bien le poids de Hamming d'un entier sur 16 bits."
   ]
  },
  {
   "cell_type": "code",
   "execution_count": 2,
   "metadata": {},
   "outputs": [],
   "source": [
    "from random import random, getrandbits\n",
    "\n",
    "# Calcul du poids d'un mot\n",
    "# ========================\n",
    "def wh(i):\n",
    "    i = i - ((i >> 1) & 0x55555555)\n",
    "    i = (i & 0x33333333) + ((i >> 2) & 0x33333333)\n",
    "    return (((i + (i >> 4) & 0xf0f0f0f) * 0x1010101) & 0xffffffff) >> 24\n",
    "\n",
    "# Calcul de la distance entre deux mots\n",
    "# =====================================\n",
    "def dh(x1, x2):\n",
    "    return wh(x1 ^ x2)"
   ]
  },
  {
   "cell_type": "code",
   "execution_count": 3,
   "metadata": {},
   "outputs": [],
   "source": [
    "# Simulation de décodage avec le code NR\n",
    "# Il faut remplir cette fonction, de telle manière à générer un mot de code bruité provenant \n",
    "# du mot en entrée, en prenant un mot de code aléatoire\n",
    "def simul_decodage_NR(mot):\n",
    "    ### Si décodage immédiat:\n",
    "    ### Renvoyer [True, distance]\n",
    "    c = codeNR[getrandbits(8)] # mot de code aleatoire\n",
    "    mot ^= c # simulation: on ajoute une erreur au mot de code c\n",
    "    # On décode ensuite le mot: c + erreur au maximum de vraisemblance\n",
    "    ### à faire ici, il faut renvoyer si le maximum par valeur de vraisemblance\n",
    "    ### a bien renvoyé le bon mot (c), ainsi que la distance au mot le plus proche\n",
    "    ### Retour [True ou False, et une distance]\n",
    "\n",
    "\n",
    "\n",
    "# Ecrire une fonction \"erreur_aleatoire(p,n)\" qui produit un mot de taille n dont chaque \n",
    "# bit vaut 1 avec probabilité p, et 0 avec probabilité (1-p). Cela correspond\n",
    "# à la simulation d'un canal binaire symétrique de probabilité d'erreur p.\n",
    "# On pourra utiliser random()\n",
    "def erreur_aleatoire(p, n):\n",
    "\n",
    "\n",
    "\n",
    "def simul_canal_externe(p):\n",
    "    return simul_decodage_NR(erreur_aleatoire(p, 16))"
   ]
  },
  {
   "cell_type": "code",
   "execution_count": 4,
   "metadata": {},
   "outputs": [],
   "source": [
    "# Simulation de décodage avec le code de Reed-Solomon\n",
    "# Quand tout est ok au dessus, il faut modifier cette fonction\n",
    "\n",
    "# Dans cette première version le nombre d'effacements est toujours égal à 0\n",
    "# car on n'a pas introduit de seuil d'effacement d'un symbole\n",
    "def simul_decodage_externe(n, d, p, nb_essai, seuil):\n",
    "    echec = 0\n",
    "    for i in range(nb_essai):\n",
    "        nb_erreur = 0\n",
    "        nb_effacement = 0\n",
    "        for i in range(n):\n",
    "            [correct, poids] = simul_canal_externe(p)\n",
    "            ################\n",
    "            # Completer cette partie pour introduire un seuil d'effacement \n",
    "            # Et donner le nombre d'échecs\n",
    "            ###############\n",
    "    print(str(echec) + \" échecs sur \" + str(nb_essai) + \" essais\")\n",
    "    \n",
    "    \n",
    "    \n",
    "# Utiliser cette fonction pour répondre aux questions !"
   ]
  },
  {
   "cell_type": "code",
   "execution_count": 14,
   "metadata": {},
   "outputs": [
    {
     "name": "stdout",
     "output_type": "stream",
     "text": [
      "63 échecs sur 100 essais\n"
     ]
    }
   ],
   "source": [
    "simul_decodage_externe(256,33,0.07,100,0)"
   ]
  },
  {
   "cell_type": "code",
   "execution_count": 15,
   "metadata": {},
   "outputs": [
    {
     "name": "stdout",
     "output_type": "stream",
     "text": [
      "10 échecs sur 100 essais\n"
     ]
    }
   ],
   "source": [
    "simul_decodage_externe(256,33,0.06,100,0)"
   ]
  },
  {
   "cell_type": "code",
   "execution_count": 16,
   "metadata": {},
   "outputs": [
    {
     "name": "stdout",
     "output_type": "stream",
     "text": [
      "1 échecs sur 100 essais\n"
     ]
    }
   ],
   "source": [
    "simul_decodage_externe(256,33,0.05,100,0)"
   ]
  },
  {
   "cell_type": "code",
   "execution_count": null,
   "metadata": {},
   "outputs": [],
   "source": []
  },
  {
   "cell_type": "code",
   "execution_count": null,
   "metadata": {},
   "outputs": [],
   "source": []
  }
 ],
 "metadata": {
  "kernelspec": {
   "display_name": "Python 3",
   "language": "python",
   "name": "python3"
  },
  "language_info": {
   "codemirror_mode": {
    "name": "ipython",
    "version": 3
   },
   "file_extension": ".py",
   "mimetype": "text/x-python",
   "name": "python",
   "nbconvert_exporter": "python",
   "pygments_lexer": "ipython3",
   "version": "3.6.3"
  }
 },
 "nbformat": 4,
 "nbformat_minor": 2
}

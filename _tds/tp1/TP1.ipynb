{
 "cells": [
  {
   "cell_type": "markdown",
   "metadata": {},
   "source": [
    "# TP 1 - Codage de source\n",
    "\n",
    "*Introduction à la théorie de l'information.*\n",
    "\n",
    "## 1. Code de Huffman\n",
    "\n",
    "Nous allons considérer une source de 27 lettres, avec la loi de probabilité suivante :\n",
    "\n",
    "| Symbole | Fréquence | Symbole | Fréquence | Symbole | Fréquence |\n",
    "|:-------:|:---------:|:-------:|:---------:|:-------:|:---------:|\n",
    "| ` `     |   0.1834  |   `i`   | 0.0591    | `r`     | 0.0555    |\n",
    "| `a`     | 0.0640    | `j`     | 0.0023    | `s`     | 0.0697    |\n",
    "| `b`     | 0.0064    | `k`     | 0.0001    | `t`     | 0.0572    |\n",
    "| `c`     | 0.0259    | `l`     | 0.0465    | `u`     | 0.0506    |\n",
    "| `d`     | 0.0260    | `m`     | 0.0245    | `v`     | 0.0100    |\n",
    "| `e`     | 0.1486    | `n`     | 0.0623    | `w`     | 0.0001    |\n",
    "| `f`     | 0.0078    | `o`     | 0.0459    | `x`     | 0.0031    |\n",
    "| `g`     | 0.0083    | `p`     | 0.0256    | `y`     | 0.0021    |\n",
    "| `h`     | 0.0061    | `q`     | 0.0081    | `z`     | 0.0008    |\n",
    "\n",
    "que l’on pourra trouver sous forme d’un dictionnaire python dans les cellules suivantes."
   ]
  },
  {
   "cell_type": "code",
   "execution_count": null,
   "metadata": {},
   "outputs": [],
   "source": [
    "source = {\n",
    "    ' ': 0.1834, 'a': 0.0640, 'b': 0.0064, 'c': 0.0259, 'd': 0.0260,\n",
    "    'e': 0.1486, 'f': 0.0078, 'g': 0.0083, 'h': 0.0061, 'i': 0.0591,\n",
    "    'j': 0.0023, 'k': 0.0001, 'l': 0.0465, 'm': 0.0245, 'n': 0.0623,\n",
    "    'o': 0.0459, 'p': 0.0256, 'q': 0.0081, 'r': 0.0555, 's': 0.0697,\n",
    "    't': 0.0572, 'u': 0.0506, 'v': 0.0100, 'w': 0.0001, 'x': 0.0031,\n",
    "    'y': 0.0021, 'z': 0.0008\n",
    "}\n",
    "\n",
    "source_en = {\n",
    "    ' ': 0.1928, 'a': 0.0575, 'b': 0.0128, 'c': 0.0263, 'd': 0.0285,\n",
    "    'e': 0.0913, 'f': 0.0173, 'g': 0.0133, 'h': 0.0313, 'i': 0.0599,\n",
    "    'j': 0.0006, 'k': 0.0084, 'l': 0.0335, 'm': 0.0235, 'n': 0.0596,\n",
    "    'o': 0.0689, 'p': 0.0192, 'q': 0.0008, 'r': 0.0508, 's': 0.0567,\n",
    "    't': 0.0706, 'u': 0.0334, 'v': 0.0069, 'w': 0.0119, 'x': 0.0073,\n",
    "    'y': 0.0164, 'z': 0.0007\n",
    "}"
   ]
  },
  {
   "cell_type": "markdown",
   "metadata": {},
   "source": [
    "### 1.1  Préliminaire\n",
    "\n",
    "Quelle est l’entropie de cette source ? Compléter la fonction entropie pour obtenir quelque chose comme ce qui suit.\n",
    "\n",
    "```\n",
    ">>> entropie(source)\n",
    "3.9067871392010556\n",
    "```"
   ]
  },
  {
   "cell_type": "code",
   "execution_count": null,
   "metadata": {},
   "outputs": [],
   "source": [
    "from math import log\n",
    "from operator import attrgetter\n",
    "\n",
    "def entropie(source):\n",
    "    # \n",
    "    # \n",
    "    #\n",
    "    # ???\n",
    "    #\n",
    "    #\n",
    "    return h"
   ]
  },
  {
   "cell_type": "code",
   "execution_count": null,
   "metadata": {},
   "outputs": [],
   "source": [
    "entropie(source)"
   ]
  },
  {
   "cell_type": "markdown",
   "metadata": {},
   "source": [
    "### 1.2  Arbre de Huffman\n",
    "\n",
    "Pour se familiariser avec les manipulations de tableaux et d’arbres on pourra essayer de faire quelques test dans les cellules ci-dessous."
   ]
  },
  {
   "cell_type": "code",
   "execution_count": null,
   "metadata": {},
   "outputs": [],
   "source": [
    "# arbre binaire avec 2 attributs pour chaque noeud : lettre et poids\n",
    "class Arbre:\n",
    "    def __init__(self, lettre, poids, gauche, droit):\n",
    "        self.lettre = lettre # None pour un noeud interne\n",
    "        self.poids = poids\n",
    "        self.gauche = gauche # None pour une feuille\n",
    "        self.droit = droit # None pour une feuille\n",
    "    def __str__(self):\n",
    "        if self.lettre != None:\n",
    "            return str(\"%.4f\" % self.poids) + \" (\" + str(self.lettre) + \")\"\n",
    "        else:\n",
    "            return str(\"%.4f\" % self.poids) + self.gauche._str(\"\\n. \") + self.droit._str(\"\\n. \")\n",
    "    def _str(self, prefix):\n",
    "        if self.lettre != None:\n",
    "            return prefix + str(\"%.4f\" % self.poids) + \" (\" + str(self.lettre) + \")\"\n",
    "        else:\n",
    "            return prefix + str(\"%.4f\" % self.poids) + self.gauche._str(prefix + \". \") + self.droit._str(prefix + \". \")\n",
    "    def __repr__(self):\n",
    "        if self.lettre != None:\n",
    "            return repr((self.poids, self.lettre))\n",
    "        else:\n",
    "            return repr((self.poids, self.gauche, self.droit))\n",
    "\n",
    "# cree un arbre dont la racine est une feuille\n",
    "def feuille(lettre, poids):\n",
    "    return Arbre(lettre, poids, None, None)\n",
    "\n",
    "# cree un arbre a partir des fils gauche et droit\n",
    "def noeud(gauche, droit):\n",
    "    return Arbre(None, gauche.poids + droit.poids, gauche, droit)"
   ]
  },
  {
   "cell_type": "markdown",
   "metadata": {},
   "source": [
    "#### Tests avec les tableaux et arbres"
   ]
  },
  {
   "cell_type": "code",
   "execution_count": null,
   "metadata": {},
   "outputs": [],
   "source": [
    "for i in range(10):\n",
    "    print(i)"
   ]
  },
  {
   "cell_type": "code",
   "execution_count": null,
   "metadata": {},
   "outputs": [],
   "source": [
    "T=[i for i in range(10)]"
   ]
  },
  {
   "cell_type": "code",
   "execution_count": null,
   "metadata": {},
   "outputs": [],
   "source": [
    "T"
   ]
  },
  {
   "cell_type": "code",
   "execution_count": null,
   "metadata": {},
   "outputs": [],
   "source": [
    "T[0], T[1]"
   ]
  },
  {
   "cell_type": "code",
   "execution_count": null,
   "metadata": {},
   "outputs": [],
   "source": [
    "T[2:]"
   ]
  },
  {
   "cell_type": "code",
   "execution_count": null,
   "metadata": {},
   "outputs": [],
   "source": [
    "T[:2]"
   ]
  },
  {
   "cell_type": "code",
   "execution_count": null,
   "metadata": {},
   "outputs": [],
   "source": [
    "[23] + T[2:]"
   ]
  },
  {
   "cell_type": "code",
   "execution_count": null,
   "metadata": {},
   "outputs": [],
   "source": [
    "T[2:] + [23]"
   ]
  },
  {
   "cell_type": "code",
   "execution_count": null,
   "metadata": {},
   "outputs": [],
   "source": [
    "ma_source = {'a': 0.5, 'b': 0.1, 'c': 0.1, 'd': 0.3}\n",
    "\n",
    "for lettre in ma_source:\n",
    "    print(lettre)\n",
    "\n",
    "for lettre in ma_source:\n",
    "    print(ma_source[lettre])"
   ]
  },
  {
   "cell_type": "code",
   "execution_count": null,
   "metadata": {},
   "outputs": [],
   "source": [
    "[lettre for lettre in ma_source]"
   ]
  },
  {
   "cell_type": "code",
   "execution_count": null,
   "metadata": {},
   "outputs": [],
   "source": [
    "[ma_source[lettre] for lettre in ma_source]"
   ]
  },
  {
   "cell_type": "code",
   "execution_count": null,
   "metadata": {},
   "outputs": [],
   "source": [
    "x = 0\n",
    "for lettre in ma_source:\n",
    "    x += ma_source[lettre]\n",
    "    print(lettre, x)"
   ]
  },
  {
   "cell_type": "code",
   "execution_count": null,
   "metadata": {},
   "outputs": [],
   "source": [
    "A=feuille('a', ma_source['a'])\n",
    "A"
   ]
  },
  {
   "cell_type": "code",
   "execution_count": null,
   "metadata": {},
   "outputs": [],
   "source": [
    "B=feuille('b', ma_source['b'])\n",
    "B"
   ]
  },
  {
   "cell_type": "code",
   "execution_count": null,
   "metadata": {},
   "outputs": [],
   "source": [
    "N=noeud(feuille('a', ma_source['a']), feuille('b', ma_source['b']))\n",
    "N"
   ]
  },
  {
   "cell_type": "code",
   "execution_count": null,
   "metadata": {},
   "outputs": [],
   "source": [
    "print(N)"
   ]
  },
  {
   "cell_type": "code",
   "execution_count": null,
   "metadata": {},
   "outputs": [],
   "source": [
    "N.gauche"
   ]
  },
  {
   "cell_type": "code",
   "execution_count": null,
   "metadata": {},
   "outputs": [],
   "source": [
    "N.droit"
   ]
  },
  {
   "cell_type": "code",
   "execution_count": null,
   "metadata": {},
   "outputs": [],
   "source": [
    "N.poids"
   ]
  },
  {
   "cell_type": "code",
   "execution_count": null,
   "metadata": {},
   "outputs": [],
   "source": [
    "table = [feuille(lettre, ma_source[lettre]) for lettre in ma_source]\n",
    "table"
   ]
  },
  {
   "cell_type": "code",
   "execution_count": null,
   "metadata": {},
   "outputs": [],
   "source": [
    "table = sorted(table, key=attrgetter('poids'))\n",
    "table"
   ]
  },
  {
   "cell_type": "code",
   "execution_count": null,
   "metadata": {},
   "outputs": [],
   "source": [
    "table[2:]"
   ]
  },
  {
   "cell_type": "code",
   "execution_count": null,
   "metadata": {},
   "outputs": [],
   "source": [
    "noeud(table[0], table[1])"
   ]
  },
  {
   "cell_type": "code",
   "execution_count": null,
   "metadata": {},
   "outputs": [],
   "source": [
    "print(noeud(table[0], table[1]))"
   ]
  },
  {
   "cell_type": "code",
   "execution_count": null,
   "metadata": {},
   "outputs": [],
   "source": [
    "table = sorted([noeud(table[0], table[1])] + table[2:], key=attrgetter('poids'))"
   ]
  },
  {
   "cell_type": "code",
   "execution_count": null,
   "metadata": {},
   "outputs": [],
   "source": [
    "table"
   ]
  },
  {
   "cell_type": "markdown",
   "metadata": {},
   "source": [
    "#### Fin des tests, retour à Huffmann\n",
    "\n",
    "Écrire un programme qui construit l’arbre du code de Huffmann de cette source (compléter la fonction huffman).\n",
    "\n",
    "Le code de Huffmann de $X=\\{a_1,\\dots, a_{n-2},a_{n-1},a_n\\}$ muni de la loi $(P(a_1),\\dots,P(a_n))$ est défini par :\n",
    "\n",
    "1. si $n=2$, $\\varphi(a_1) = {\\tt 0}$ et $\\varphi(a_2) = {\\tt 1}$\n",
    "2. sinon on suppose (sans perte de généralité) que les lettres les moins probables sont $a_{n-1}$ et $a_n$, et on considère la source $Y=\\{a_1,\\dots,a_{n−2},b\\}$ de cardinal $n-1$ munie de la loi $\\left\\{\\begin{array}{rcll} Q(a_i) & = & P(a_i) & i = 1 \\ldots{} n-2 \\\\ Q(b) & = & P(a_{n-1})+P(a_n) & \\end{array}\\right.$.\n",
    "Soit $g()$ un code de Huffmann de $Y$, on a $\\left\\{\\begin{array}{rcll} f(a_i) & = & g(a_i) & i = 1 \\ldots{} n-2 \\\\ f(a_{n-1}) & = & g(b)||{\\tt 0} \\\\ f(a_{n}) & = & g(b)||{\\tt 1} \\\\ \\end{array}\\right.$\n",
    "\n",
    "L’execution donnera un résultat voisin de :\n",
    "```\n",
    ">>> code = huffman(source)\n",
    ">>> lon_moy(code)\n",
    "3.9438\n",
    ">>> print (code)\n",
    "1.0000\n",
    ". 0.4129\n",
    ". . 0.1900\n",
    ". . . 0.0924\n",
    ". . . . 0.0459 (o)\n",
    ". . . . 0.0465 (l)\n",
    ". . . 0.0976\n",
    ". . . . 0.0470\n",
    ". . . . . 0.0225\n",
    ". . . . . . 0.0100 (v)\n",
    ". . . . . . 0.0125\n",
    ". . . . . . . 0.0061 (h)\n",
    ". . . . . . . 0.0064 (b)\n",
    ". . . . . 0.0245 (m)\n",
    ". . . . 0.0506 (u)\n",
    ". . 0.2229\n",
    ". . . 0.1070\n",
    ". . . . 0.0515\n",
    ". . . . . 0.0256 (p)\n",
    ". . . . . 0.0259 (c)\n",
    ". . . . 0.0555 (r)\n",
    ". . . 0.1159\n",
    ". . . . 0.0572 (t)\n",
    ". . . . 0.0587\n",
    ". . . . . 0.0260 (d)\n",
    ". . . . . 0.0327\n",
    ". . . . . . 0.0159\n",
    ". . . . . . . 0.0078 (f)\n",
    ". . . . . . . 0.0081 (q)\n",
    ". . . . . . 0.0168\n",
    ". . . . . . . 0.0083 (g)\n",
    ". . . . . . . 0.0085\n",
    ". . . . . . . . 0.0031\n",
    ". . . . . . . . . 0.0010\n",
    ". . . . . . . . . . 0.0002\n",
    ". . . . . . . . . . . 0.0001 (k)\n",
    ". . . . . . . . . . . 0.0001 (w)\n",
    ". . . . . . . . . . 0.0008 (z)\n",
    ". . . . . . . . . 0.0021 (y)\n",
    ". . . . . . . . 0.0054\n",
    ". . . . . . . . . 0.0023 (j)\n",
    ". . . . . . . . . 0.0031 (x)\n",
    ". 0.5871\n",
    ". . 0.2551\n",
    ". . . 0.1214\n",
    ". . . . 0.0591 (i)\n",
    ". . . . 0.0623 (n)\n",
    ". . . 0.1337\n",
    ". . . . 0.0640 (a)\n",
    ". . . . 0.0697 (s)\n",
    ". . 0.3320\n",
    ". . . 0.1486 (e)\n",
    ". . . 0.1834 ( )\n",
    "```"
   ]
  },
  {
   "cell_type": "code",
   "execution_count": null,
   "metadata": {},
   "outputs": [],
   "source": [
    "def huffman(source):\n",
    "    # creer un tableau avec toutes les feuilles\n",
    "    # \n",
    "    # # trier ? \n",
    "    # # Fusionner ? (arbre) \n",
    "    # # \n",
    "    # \n",
    "    return table[0]"
   ]
  },
  {
   "cell_type": "code",
   "execution_count": null,
   "metadata": {},
   "outputs": [],
   "source": [
    "print(huffman(source))"
   ]
  },
  {
   "cell_type": "code",
   "execution_count": null,
   "metadata": {},
   "outputs": [],
   "source": []
  },
  {
   "cell_type": "code",
   "execution_count": null,
   "metadata": {},
   "outputs": [],
   "source": []
  },
  {
   "cell_type": "markdown",
   "metadata": {},
   "source": [
    "### 1.3 Liste des mots de code\n",
    "\n",
    "Ecrire la fonction récursive `lon_moy` puis `creer_dico` qui fabrique le dictionnaire des mots de code.\n",
    "\n",
    "L’execution donnera :\n",
    "```\n",
    ">>> code = huffman(source)\n",
    ">>> dictionnaire = creer_dico(code)\n",
    ">>> for i in dictionnaire: print (i, dictionnaire[i])\n",
    "... \n",
    "  111\n",
    "a 1010\n",
    "c 01001\n",
    "b 0010011\n",
    "e 110\n",
    "d 01110\n",
    "g 0111110\n",
    "f 0111100\n",
    "i 1000\n",
    "h 0010010\n",
    "k 01111110000\n",
    "j 011111110\n",
    "m 00101\n",
    "l 0001\n",
    "o 0000\n",
    "n 1001\n",
    "q 0111101\n",
    "p 01000\n",
    "s 1011\n",
    "r 0101\n",
    "u 0011\n",
    "t 0110\n",
    "w 01111110001\n",
    "v 001000\n",
    "y 011111101\n",
    "x 011111111\n",
    "z 0111111001\n",
    "```"
   ]
  },
  {
   "cell_type": "code",
   "execution_count": null,
   "metadata": {},
   "outputs": [],
   "source": [
    "# parcours recursif d'arbre\n",
    "def lon_moy_rec(code, prof):\n",
    "    #\n",
    "    # si code est une feuille correspondant a la lettre code.lettre\n",
    "    # son mot de code a une longueur prof et sa probabilite est code.poids\n",
    "    #\n",
    "    #\n",
    "    # deux appels recursif sur les fils avec prof+1\n",
    "    #\n",
    "\n",
    "def lon_moy(code):\n",
    "    # 1er appel a la profondeur 0\n",
    "    return lon_moy_rec(code, 0)\n",
    "\n",
    "# parcours recursif d'arbre\n",
    "# prefix est la concatenation de 0 et de 1 pour aller de la racine de\n",
    "# l'arbre jusqu'au noeud courant\n",
    "def creer_dico_rec(code, prefix, dico):\n",
    "    # code est un arbre binaire\n",
    "    # si code est une feuille correspondant a une lettre\n",
    "    # # on ajoute dans le dictionnaire le mot prefix a l'entree lettre\n",
    "    # sinon\n",
    "    # # on explore ses 2 fils qui mettront a jour le dictionnaire\n",
    "    # # le fils gauche avec prefix + \"0\"\n",
    "    # # le fils droit avec prefix + \"1\"\n",
    "    # enfin, on retourne le dictionnaire\n",
    "    return dico\n",
    "\n",
    "def creer_dico(code):\n",
    "    # 1er appel avec un prefixe vide et un dictionnaire vide\n",
    "    return creer_dico_rec(code, \"\", {})"
   ]
  },
  {
   "cell_type": "code",
   "execution_count": null,
   "metadata": {},
   "outputs": [],
   "source": [
    "dico = creer_dico(huffman(source))\n",
    "for i in dico:\n",
    "    print (i, dico[i])"
   ]
  },
  {
   "cell_type": "markdown",
   "metadata": {},
   "source": [
    "### 1.4  Codeur/Décodeur\n",
    "\n",
    "La fonction coder prend en arguments un fichier d’entrée, un fichier de sortie et un dictionnaire. On pourra la tester par exemple avec cet [extrait](extrait.txt) de Candide.\n",
    "\n",
    "Modifier la fonction pour qu’elle affiche le nombre de lettres lues et le nombre total de bits pour réaliser le codage.\n",
    "```\n",
    ">>> coder('extrait.txt', 'extrait.huf', dictionnaire)\n",
    "lettres lues : 1830\n",
    "bits ecrits : 7312\n",
    "```\n",
    "\n",
    "La fonction decoder réalise l’opération inverse, lit un fichier contenant des `0` et des `1` (les autres caractères seront ignorés) et écrit dans un fichier de sortie le texte décodé correspondant. Modifier également la fonction `decoder` pour afficher le nombre de bits lus et le nombre de lettres décodées :\n",
    "\n",
    "```\n",
    ">>> coder('extrait.txt', 'extrait.huf', dictionnaire)\n",
    "lettres lues : 1830\n",
    "bits ecrits : 7312\n",
    ">>> decoder('extrait.huf', 'extrait.dec', code)\n",
    "bits lus : 7312\n",
    "lettres ecrites : 1830\n",
    "```\n",
    "\n",
    "À l’issue de l’exécution les fichiers `extrait.txt` et `extrait.dec` doivent être identiques (à l’exception peut-être d’un saut de ligne final).\n"
   ]
  },
  {
   "cell_type": "code",
   "execution_count": null,
   "metadata": {},
   "outputs": [],
   "source": [
    "def coder(entree, sortie, dictionnaire):\n",
    "    # ouvrir deux fichier en écriture et lecture\n",
    "    # entree sortie\n",
    "    # lire un octet (le premier du fichier) cf read\n",
    "    # faire tout le fichier\n",
    "    # ignorer les caracères non présents dans le dictionnaire,\n", 
    "    # saut de ligne codé comme un espace\n",
    "    # lire le prochain octet\n",
    "    #penser à bien fermer les fichiers\n",
    "    #\n",
    "\n",
    "def decoder(entree, sortie, code):\n",
    "    #à vous de jouer\n"
   ]
  },
  {
   "cell_type": "code",
   "execution_count": null,
   "metadata": {},
   "outputs": [],
   "source": [
    "coder(\"extrait.txt\", \"extrait.huf\", dico)"
   ]
  },
  {
   "cell_type": "code",
   "execution_count": null,
   "metadata": {},
   "outputs": [],
   "source": [
    "decoder(\"extrait.huf\", \"extrait.dec\", huffman(source))"
   ]
  },
  {
   "cell_type": "markdown",
   "metadata": {},
   "source": [
    "### 1.5  Changement de langue\n",
    "\n",
    "Toujours en 27 lettres, une scène de [hamlet](hamlet.txt) avec les statistiques de l’anglais `source_en` (on interprétera les sauts de ligne comme des espaces). Mesurez les tailles compressées dans les différents cas étudiés dans la cellule ci-dessous. Conclusions ?\n"
   ]
  },
  {
   "cell_type": "code",
   "execution_count": null,
   "metadata": {},
   "outputs": [],
   "source": [
    "code = huffman(source)\n",
    "dico = creer_dico(code)\n",
    "\n",
    "print(\"statistiques du français\")\n",
    "print(\"entropie =\", entropie(source))\n",
    "print(\"longueur moyenne =\", lon_moy(code))\n",
    "\n",
    "coder('extrait.txt', 'extrait.huf', dico)\n",
    "decoder('extrait.huf', 'extrait.dec', code)\n",
    "import os\n",
    "print(\"taille du fichier source (octets) =\", os.stat('extrait.txt').st_size)\n",
    "print(\"taille du fichier codé (bits) =\", os.stat('extrait.huf').st_size)\n",
    "print(\"taille du fichier décodé (octets) =\", os.stat('extrait.dec').st_size)\n",
    "print(\"taux de compression =\", os.stat('extrait.huf').st_size / (8 * os.stat('extrait.txt').st_size))\n",
    "print()\n",
    "\n",
    "code_en = huffman(source_en)\n",
    "dico_en = creer_dico(code_en)\n",
    "coder('extrait.txt', 'extrait.huf_en', dico_en)\n",
    "coder('hamlet.txt', 'hamlet.huf', dico)\n",
    "coder('hamlet.txt', 'hamlet.huf_en', dico_en)\n",
    "\n",
    "print(\"statistiques de l'anglais\")\n",
    "print(\"entropie =\", entropie(source_en))\n",
    "print(\"longueur moyenne =\", lon_moy(code_en))\n",
    "print(\"taux de compression =\", os.stat('hamlet.huf').st_size / (8 * os.stat('hamlet.txt').st_size))\n",
    "# l'anglais est plus concis -> plus d'information par lettre\n",
    "print()\n",
    "\n",
    "\n",
    "print(\"extrait.txt\\n\\tavec les statistiques du français ->\", os.stat('extrait.huf').st_size, \"bits\\n\\tavec les statisques de l'anglais  ->\", os.stat('extrait.huf_en').st_size, \"bits\")\n",
    "print(\"hamlet.txt\\n\\tavec les statistiques du français ->\", os.stat('hamlet.huf').st_size, \"bits\\n\\tavec les statisques de l'anglais  ->\", os.stat('hamlet.huf_en').st_size, \"bits\")\n",
    "# la compression est plus efficace en utilisant les bonnes statistiques\n",
    "print()\n",
    "\n",
    "print('compression de cyrano.txt')\n",
    "source_cy = stat_fichier('cyrano.txt')\n",
    "code_cy = huffman(source_cy)\n",
    "dico_cy = creer_dico(code_cy)\n",
    "coder('cyrano.txt', 'cyrano.huf', dico_cy)\n",
    "print(\"taille du fichier source (octets) =\", os.stat('cyrano.txt').st_size)\n",
    "print(\"taille du fichier codé (octets)   =\", round(os.stat('cyrano.huf').st_size / 8))\n",
    "\n",
    "os.system(\"gzip -c cyrano.txt > cyrano.txt.gz\")\n",
    "print(\"taille du fichier gzip (octets)   =\", os.stat('cyrano.txt.gz').st_size)\n",
    "# le fichier gzip est beaucoup plus petit que le fichier codé à l'aide de l'algorithme de Huffman\n",
    "\n",
    "source = stat_fichier('candide.txt')\n",
    "code = huffman(source)\n",
    "dico = creer_dico(code)\n",
    "coder('candide.txt', 'candide.huf', dico)\n"
   ]
  },
  {
   "cell_type": "markdown",
   "metadata": {},
   "source": [
    "## 2  Pour aller un peu plus loin\n",
    "\n",
    "Si vous voulez aller au delà des 27 lettres, vous pouvez faire des statistiques à partir de textes en français (par exemple [Candide](candide.txt), [Cyrano de Bergerac](cyrano.txt) ou d’[autres textes](http://abu.cnam.fr/BIB/index.html) en français). Les statistiques peuvent être obtenues à l’aide de la fonction stat_fichier. Par exemple :\n",
    "\n",
    "```\n",
    ">>> source_cyrano = stat_fichier('cyrano.txt')\n",
    ">>> code_cyrano = huffman(source_cyrano)\n",
    ">>> dico_cyrano = creer_dico(code_cyrano)\n",
    ">>> coder('cyrano.txt', 'cyrano.huf', dico_cyrano)\n",
    "lettres lues : 209810\n",
    "bits ecrits : 1042688\n",
    "```\n",
    "\n",
    "Si vous voulez mesurer ce qui est perdu par l’approximation « sans mémoire », essayez gzip sur les mêmes fichiers. "
   ]
  },
  {
   "cell_type": "code",
   "execution_count": null,
   "metadata": {},
   "outputs": [],
   "source": [
    "# compte la frequences des lettres dans un fichier\n",
    "def stat_fichier(filename):\n",
    "    f = open(filename, 'r')\n",
    "    count = {}\n",
    "    total = 0\n",
    "    c = f.read(1)\n",
    "    while c != '':\n",
    "        # caracteres speciaux -> retour chariot\n",
    "        if ord(c) < 32 : c = '\\n'\n",
    "        if c in count:\n",
    "            count[c] += 1\n",
    "        else:\n",
    "            count[c] = 1\n",
    "        total += 1\n",
    "        c = f.read(1)\n",
    "    for c in count:\n",
    "        count[c] /= total\n",
    "    return count"
   ]
  },
  {
   "cell_type": "code",
   "execution_count": null,
   "metadata": {},
   "outputs": [],
   "source": []
  }
 ],
 "metadata": {
  "kernelspec": {
   "display_name": "Python 3 (ipykernel)",
   "language": "python",
   "name": "python3"
  },
  "language_info": {
   "codemirror_mode": {
    "name": "ipython",
    "version": 3
   },
   "file_extension": ".py",
   "mimetype": "text/x-python",
   "name": "python",
   "nbconvert_exporter": "python",
   "pygments_lexer": "ipython3",
   "version": "3.8.10"
  }
 },
 "nbformat": 4,
 "nbformat_minor": 2
}

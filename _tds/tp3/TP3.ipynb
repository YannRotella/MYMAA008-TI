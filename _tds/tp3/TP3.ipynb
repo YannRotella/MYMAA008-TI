{
 "cells": [
  {
   "cell_type": "markdown",
   "metadata": {},
   "source": [
    "# TD 5, Codes correcteur d’erreurs – Code de Nordstrom-Robinson\n",
    "*Introduction à la théorie de l’information*\n",
    "\n",
    "Le code de Nordstrom-Robinson est un code en bloc (non linéaire) de longueur 16 contenant 256 mots. La liste des mots de code est donnée ci-dessous."
   ]
  },
  {
   "cell_type": "code",
   "execution_count": 2,
   "metadata": {},
   "outputs": [],
   "source": [
    "codeNR = [\n",
    "     '0000000000000000', '0000000100110111', '0000001011100110', '0000001101011010',\n",
    "     '0000010011010011', '0000010110101010', '0000011000001111', '0000011111111101',\n",
    "     '0000100010101101', '0000100111010100', '0000101001110001', '0000101110000011',\n",
    "     '0000110001111110', '0000110101001001', '0000111010011000', '0000111100100100',\n",
    "     '0001000011111000', '0001000111001111', '0001001010010101', '0001001100101001',\n",
    "     '0001010001100101', '0001010100011100', '0001011000110010', '0001011111000000',\n",
    "     '0001100000011011', '0001100101100010', '0001101001001100', '0001101110111110',\n",
    "     '0001110010000110', '0001110110110001', '0001111011101011', '0001111101010111',\n",
    "     '0010000010011110', '0010000101101100', '0010001011001001', '0010001110110000',\n",
    "     '0010010000111001', '0010010110000101', '0010011001010100', '0010011101100011',\n",
    "     '0010100001000111', '0010100111111011', '0010101000101010', '0010101100011101',\n",
    "     '0010110011100000', '0010110100010010', '0010111010110111', '0010111111001110',\n",
    "     '0011000010100011', '0011000101010001', '0011001001111111', '0011001100000110',\n",
    "     '0011010001001010', '0011010111110110', '0011011010101100', '0011011110011011',\n",
    "     '0011100000110100', '0011100110001000', '0011101011010010', '0011101111100101',\n",
    "     '0011110011011101', '0011110100101111', '0011111000000001', '0011111101111000',\n",
    "     '0100000001011101', '0100000111100001', '0100001010111011', '0100001110001100',\n",
    "     '0100010010110100', '0100010101000110', '0100011001101000', '0100011100010001',\n",
    "     '0100100011001010', '0100100100111000', '0100101000010110', '0100101101101111',\n",
    "     '0100110000100011', '0100110110011111', '0100111011000101', '0100111111110010',\n",
    "     '0101000000101110', '0101000110010010', '0101001001000011', '0101001101110100',\n",
    "     '0101010010001001', '0101010101111011', '0101011011011110', '0101011110100111',\n",
    "     '0101100011110111', '0101100100000101', '0101101010100000', '0101101111011001',\n",
    "     '0101110001010000', '0101110111101100', '0101111000111101', '0101111100001010',\n",
    "     '0110000001110010', '0110000100001011', '0110001000100101', '0110001111010111',\n",
    "     '0110010011101111', '0110010111011000', '0110011010000010', '0110011100111110',\n",
    "     '0110100010010001', '0110100110100110', '0110101011111100', '0110101101000000',\n",
    "     '0110110000001100', '0110110101110101', '0110111001011011', '0110111110101001',\n",
    "     '0111000011000100', '0111000110111101', '0111001000011000', '0111001111101010',\n",
    "     '0111010000010111', '0111010100100000', '0111011011110001', '0111011101001101',\n",
    "     '0111100001101001', '0111100101011110', '0111101010001111', '0111101100110011',\n",
    "     '0111110010111010', '0111110111000011', '0111111001100110', '0111111110010100',\n",
    "     '1000000001101011', '1000000110011001', '1000001000111100', '1000001101000101',\n",
    "     '1000010011001100', '1000010101110000', '1000011010100001', '1000011110010110',\n",
    "     '1000100010110010', '1000100100001110', '1000101011011111', '1000101111101000',\n",
    "     '1000110000010101', '1000110111100111', '1000111001000010', '1000111100111011',\n",
    "     '1001000001010110', '1001000110100100', '1001001010001010', '1001001111110011',\n",
    "     '1001010010111111', '1001010100000011', '1001011001011001', '1001011101101110',\n",
    "     '1001100011000001', '1001100101111101', '1001101000100111', '1001101100010000',\n",
    "     '1001110000101000', '1001110111011010', '1001111011110100', '1001111110001101',\n",
    "     '1010000011110101', '1010000111000010', '1010001000010011', '1010001110101111',\n",
    "     '1010010000100110', '1010010101011111', '1010011011111010', '1010011100001000',\n",
    "     '1010100001011000', '1010100100100001', '1010101010000100', '1010101101110110',\n",
    "     '1010110010001011', '1010110110111100', '1010111001101101', '1010111111010001',\n",
    "     '1011000000001101', '1011000100111010', '1011001001100000', '1011001111011100',\n",
    "     '1011010010010000', '1011010111101001', '1011011011000111', '1011011100110101',\n",
    "     '1011100011101110', '1011100110010111', '1011101010111001', '1011101101001011',\n",
    "     '1011110001110011', '1011110101000100', '1011111000011110', '1011111110100010',\n",
    "     '1100000010000111', '1100000111111110', '1100001011010000', '1100001100100010',\n",
    "     '1100010000011010', '1100010100101101', '1100011001110111', '1100011111001011',\n",
    "     '1100100001100100', '1100100101010011', '1100101000001001', '1100101110110101',\n",
    "     '1100110011111001', '1100110110000000', '1100111010101110', '1100111101011100',\n",
    "     '1101000000110001', '1101000101001000', '1101001011101101', '1101001100011111',\n",
    "     '1101010011100010', '1101010111010101', '1101011000000100', '1101011110111000',\n",
    "     '1101100010011100', '1101100110101011', '1101101001111010', '1101101111000110',\n",
    "     '1101110001001111', '1101110100110110', '1101111010010011', '1101111101100001',\n",
    "     '1110000010101000', '1110000100010100', '1110001001001110', '1110001101111001',\n",
    "     '1110010001000001', '1110010110110011', '1110011010011101', '1110011111100100',\n",
    "     '1110100000111111', '1110100111001101', '1110101011100011', '1110101110011010',\n",
    "     '1110110011010110', '1110110101101010', '1110111000110000', '1110111100000111',\n",
    "     '1111000011011011', '1111000101100111', '1111001010110110', '1111001110000001',\n",
    "     '1111010001111100', '1111010110001110', '1111011000101011', '1111011101010010',\n",
    "     '1111100000000010', '1111100111110000', '1111101001010101', '1111101100101100',\n",
    "     '1111110010100101', '1111110100011001', '1111111011001000', '1111111111111111'\n",
    "     ]"
   ]
  },
  {
   "cell_type": "markdown",
   "metadata": {},
   "source": [
    "## 1  Distance minimale\n",
    "\n",
    "La distance minimale de ce code est de $6$ (c’est mieux que tout code linéaire de même paramètres).\n",
    "\n",
    "- Écrire une fonction `distance_hamming` qui calcule la distance de Hamming entre deux mots de code.\n",
    "- Écrire une fonction `enumerateur` qui calcule l’énumérateur des distances du code, c’est-à-dire pour tout poids `w` entre $0$ et $16$, le nombre de paires de mots de code `(x, y)` à distance de Hamming `w`, c'est-à-dire tels que `distance_hamming(x, y) = w`."
   ]
  },
  {
   "cell_type": "code",
   "execution_count": null,
   "metadata": {},
   "outputs": [],
   "source": []
  },
  {
   "cell_type": "code",
   "execution_count": null,
   "metadata": {},
   "outputs": [],
   "source": []
  },
  {
   "cell_type": "code",
   "execution_count": null,
   "metadata": {},
   "outputs": [],
   "source": []
  },
  {
   "cell_type": "markdown",
   "metadata": {},
   "source": [
    "## 2  Décodage à vraisemblance maximale\n",
    "\n",
    "La cellule ci-dessous contient un codeur `coder_NR`, un simulateur de canal binaire symétrique `canal_binaire` et un faux décodeur `decoder_NR` (qui suppose qu’il n’y a pas eu d’erreurs).\n",
    "\n",
    "On testera d’abord avec le fichier `extrait.txt`.\n",
    "\n",
    "On pourra ensuite utiliser des textes plus longs, `extrait_long.txt` ou `candide.txt`.\n",
    "\n",
    "- Avec une probabilité d’erreur variant entre $10^{−1}$ et $10^{−4}$, quel est le taux d’erreur résiduel constaté ? Est-ce ce que l’on attendait ?"
   ]
  },
  {
   "cell_type": "code",
   "execution_count": 6,
   "metadata": {},
   "outputs": [],
   "source": [
    "from random import random\n",
    "\n",
    "def canal_binaire(entree, sortie, p):\n",
    "    f = open(entree, 'r')\n",
    "    g = open(sortie, 'w')\n",
    "    c = f.read(1)\n",
    "    while c != '':\n",
    "        if random() <= p:\n",
    "            if c == '0':\n",
    "                c = '1'\n",
    "            elif c == '1':\n",
    "                c = '0'\n",
    "        g.write(c)\n",
    "        c = f.read(1)\n",
    "    f.close()\n",
    "    g.close()\n",
    "\n",
    "\n",
    "def coder_NR(entree, sortie):\n",
    "    f = open(entree, 'r')\n",
    "    g = open(sortie, 'w')\n",
    "    c = f.read(1)\n",
    "    while c != '':\n",
    "        g.write(codeNR[ord(c)])\n",
    "        c = f.read(1)\n",
    "    f.close()\n",
    "    g.close()\n",
    "\n",
    "from random import random\n",
    "\n",
    "def decoder_NR(entree, sortie):\n",
    "    f = open(entree, 'r')\n",
    "    g = open(sortie, 'w')\n",
    "    mot = f.read(16)\n",
    "    while mot != '':\n",
    "        g.write(chr(int(mot[:8], 2)))\n",
    "        mot = f.read(16)\n",
    "    f.close()\n",
    "    g.close()\n",
    "\n",
    "def difference(fichier1, fichier2):\n",
    "    f1 = open(fichier1, 'r')\n",
    "    f2 = open(fichier2, 'r')\n",
    "    diff = 0;\n",
    "    total = 0;\n",
    "    c1 = f1.read(1)\n",
    "    c2 = f2.read(1)\n",
    "    while c1 != '' and c2 != '':\n",
    "        total +=1\n",
    "        if c1 != c2:\n",
    "            diff += 1\n",
    "        c1 = f1.read(1)\n",
    "        c2 = f2.read(1)\n",
    "    print(str(diff) + \" caractères différents\")\n",
    "    #print(str(diff/total))\n",
    "    return (diff/total)"
   ]
  },
  {
   "cell_type": "code",
   "execution_count": null,
   "metadata": {},
   "outputs": [],
   "source": []
  },
  {
   "cell_type": "code",
   "execution_count": null,
   "metadata": {},
   "outputs": [],
   "source": []
  },
  {
   "cell_type": "code",
   "execution_count": null,
   "metadata": {},
   "outputs": [],
   "source": []
  },
  {
   "cell_type": "markdown",
   "metadata": {},
   "source": [
    "## 3  Décodage strictement borné\n",
    "\n",
    "Le code a une distance minimale de 6, la meilleure borne pour un décodeur est 2. Modifier le décodeur pour qu’il corrige les erreurs binaires de poids de Hamming 1 ou 2 dans un bloc (de 16 bits), mais qui ne prend pas de décision au delà (on retournera ’*’ par exemple).\n",
    "\n",
    "Faire des tests en modifiant la fonction difference pour afficher le nombre de différences (erreurs résiduelles) ainsi que le nombre de ’*’."
   ]
  },
  {
   "cell_type": "code",
   "execution_count": null,
   "metadata": {},
   "outputs": [],
   "source": []
  },
  {
   "cell_type": "code",
   "execution_count": null,
   "metadata": {},
   "outputs": [],
   "source": []
  },
  {
   "cell_type": "code",
   "execution_count": null,
   "metadata": {},
   "outputs": [],
   "source": []
  },
  {
   "cell_type": "code",
   "execution_count": null,
   "metadata": {},
   "outputs": [],
   "source": []
  }
 ],
 "metadata": {
  "kernelspec": {
   "display_name": "Python 3 (ipykernel)",
   "language": "python",
   "name": "python3"
  },
  "language_info": {
   "codemirror_mode": {
    "name": "ipython",
    "version": 3
   },
   "file_extension": ".py",
   "mimetype": "text/x-python",
   "name": "python",
   "nbconvert_exporter": "python",
   "pygments_lexer": "ipython3",
   "version": "3.8.10"
  }
 },
 "nbformat": 4,
 "nbformat_minor": 2
}
